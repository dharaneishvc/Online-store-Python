{
  "cells": [
    {
      "cell_type": "code",
      "execution_count": 12,
      "metadata": {
        "id": "K0gjJJfJ1Osl"
      },
      "outputs": [],
      "source": [
        "# codecs provides access to the internal Python codec registry\n",
        "import codecs\n",
        "\n",
        "# This is to translate the text from Tamil language to English\n",
        "from deep_translator import GoogleTranslator\n",
        "\n",
        "# This is to analyse the sentiment of text\n",
        "from vaderSentiment.vaderSentiment import SentimentIntensityAnalyzer\n"
      ]
    },
    {
      "cell_type": "code",
      "execution_count": null,
      "metadata": {
        "id": "nc09-8HL1m4D"
      },
      "outputs": [],
      "source": [
        "# Read the text in Tamil into 'sentences'\n",
        "with codecs.open('sampletamiltext.txt', encoding='utf-8') as f:\n",
        "\tsentences = f.readlines()\n"
      ]
    },
    {
      "cell_type": "code",
      "execution_count": 13,
      "metadata": {
        "colab": {
          "base_uri": "https://localhost:8080/"
        },
        "id": "Ppb27zum1y8R",
        "outputId": "771793e0-e2ed-4a4f-89ed-c43a9b615a42"
      },
      "outputs": [
        {
          "name": "stdout",
          "output_type": "stream",
          "text": [
            "\n",
            "Translated Sentence = I am very happy. India won the World Cup in 1983 and 2011. \n",
            "Dictionary= {'neg': 0.0, 'neu': 0.58, 'pos': 0.42, 'compound': 0.8384}\n",
            "It is a Positive Sentence\n"
          ]
        }
      ],
      "source": [
        "for sentence in sentences:\n",
        "\ttranslated_text = GoogleTranslator(source='auto', target='en').translate(sentence)\n",
        "\t#print(translated_text)\n",
        "\tanalyzer = SentimentIntensityAnalyzer()\n",
        "\tsentiment_dict = analyzer.polarity_scores(translated_text)\n",
        "\t\n",
        "\tprint(\"\\nTranslated Sentence =\",translated_text, \"\\nDictionary=\",sentiment_dict)\n",
        "\tif sentiment_dict['compound'] >= 0.05 :\n",
        "\t\t\tprint(\"It is a Positive Sentence\")\n",
        "\telif sentiment_dict['compound'] <= - 0.05 :\n",
        "\t\t\tprint(\"It is a Negative Sentence\")\t\n",
        "\telse :\n",
        "\t\tprint(\"It is a Neutral Sentence\")\n"
      ]
    }
  ],
  "metadata": {
    "colab": {
      "provenance": []
    },
    "kernelspec": {
      "display_name": "Python 3",
      "name": "python3"
    },
    "language_info": {
      "name": "python"
    }
  },
  "nbformat": 4,
  "nbformat_minor": 0
}
